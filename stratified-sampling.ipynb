{
 "cells": [
  {
   "cell_type": "markdown",
   "id": "enhanced-foundation",
   "metadata": {
    "papermill": {
     "duration": 0.003645,
     "end_time": "2021-04-21T22:37:29.626160",
     "exception": false,
     "start_time": "2021-04-21T22:37:29.622515",
     "status": "completed"
    },
    "tags": []
   },
   "source": [
    "Whenever we sample data(like creating a test set), we need to ensure that we are not introducing any kind bias in it.\n",
    "\n",
    "let's say we are creating a test set randomly, which will work fine if we have a large enough dataset, but in case if we don't we will bw introducing a sampling bias in it without knowing. This leads us to a very important question: \n",
    "* What is sampling bias?\n",
    "--> When we create a random sample from a pool of data. Its possible that it is already biased or it prefers a label more than the other, it's called a **sampling bias** i.e. some members of the intended population have a lower or higher sampling probability than others. This will effect our model performance and accuracy.\n",
    "(This is confusing i know, let me explain you with help of an example)\n",
    "example- let's say we have a census data of a country with 70% females and 30% male, when we take out random sample, it is possible that the random data may have 60% male and 40% female, this will be defying our original dataset. The data will be biased.\n",
    "* **Whenever we sample the data, it should be the representation of our original dataset.**\n",
    "* What is stratified sampling?\n",
    "--> Stratified sampling ensures that the samples should actually represent the original data. **(the samples are called stratas)**\n",
    "example- if a sales department of an insurance company decides to call 100 people in the country(reffered in earlier example) to sell their plans. They would not just call 100 people randomly. They will pick 70 females and 30 males i.e they will be the representation of the whole country's population.\n",
    "\n",
    "* Make sure you do not have too much stratas, only hold on to important ones.\n",
    "\n",
    "* **How?**\n",
    "--> In scikit-learn there is a class called *StratifiedShuffleSplit*.\n",
    "\n",
    "from sklearn.model_selection import StratifiesShuffleSplit\n",
    "StratifiedShuffleSplit(n_splits=______, test_size=_______, random_state= _____)"
   ]
  },
  {
   "cell_type": "code",
   "execution_count": null,
   "id": "dense-enough",
   "metadata": {
    "papermill": {
     "duration": 0.00227,
     "end_time": "2021-04-21T22:37:29.631277",
     "exception": false,
     "start_time": "2021-04-21T22:37:29.629007",
     "status": "completed"
    },
    "tags": []
   },
   "outputs": [],
   "source": []
  }
 ],
 "metadata": {
  "kernelspec": {
   "display_name": "Python 3",
   "language": "python",
   "name": "python3"
  },
  "language_info": {
   "codemirror_mode": {
    "name": "ipython",
    "version": 3
   },
   "file_extension": ".py",
   "mimetype": "text/x-python",
   "name": "python",
   "nbconvert_exporter": "python",
   "pygments_lexer": "ipython3",
   "version": "3.7.10"
  },
  "papermill": {
   "default_parameters": {},
   "duration": 9.967654,
   "end_time": "2021-04-21T22:37:30.922461",
   "environment_variables": {},
   "exception": null,
   "input_path": "__notebook__.ipynb",
   "output_path": "__notebook__.ipynb",
   "parameters": {},
   "start_time": "2021-04-21T22:37:20.954807",
   "version": "2.3.3"
  }
 },
 "nbformat": 4,
 "nbformat_minor": 5
}
